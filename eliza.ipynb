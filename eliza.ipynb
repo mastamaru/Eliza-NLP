{
 "cells": [
  {
   "cell_type": "code",
   "execution_count": 1,
   "id": "initial_id",
   "metadata": {
    "ExecuteTime": {
     "end_time": "2024-09-02T14:05:35.539530Z",
     "start_time": "2024-09-02T14:05:35.521369Z"
    },
    "collapsed": true
   },
   "outputs": [],
   "source": [
    "import re\n",
    "import random\n",
    "\n",
    "pairs = {\n",
    "    \"hello\" : [\"Hello, how are you today?\", \"Hi, how can I help you today?\"],\n",
    "\n",
    "    \"i feel (.*)\": [\n",
    "        \"Why do you feel {0}?\",\n",
    "        \"I'm sorry to hear that you feel {0}, can you tell me more about it?\",\n",
    "        \"It sounds like you're feeling {0}. How long have you been feeling this way?\",\n",
    "        \"What do you think might be causing you to feel {0}?\",\n",
    "        \"Thank you for sharing how you feel. I'm here to listen.\"\n",
    "    ],\n",
    "\n",
    "    \"i'm (.*)\": [\n",
    "        \"Why are you {0}?\",\n",
    "        \"How long have you been {0}?\",\n",
    "        \"I'm here for you. Can you tell me more about feeling {0}?\",\n",
    "        \"It's okay to feel {0}. Sometimes, emotions are overwhelming, and that's alright.\"\n",
    "    ],\n",
    "\n",
    "    \"i feel anxious(.*)\": [\n",
    "        \"I'm sorry to hear that you're feeling anxious. What usually helps you feel calmer?\",\n",
    "        \"Anxiety can be tough. Do you want to talk about what is making you anxious?\",\n",
    "        \"It's okay to feel anxious sometimes. Is there anything specific that triggers this feeling?\",\n",
    "        \"You're not alone. Many people experience anxiety. Would you like to explore some calming techniques together?\"\n",
    "    ],\n",
    "\n",
    "    \"i feel depressed(.*)\": [\n",
    "        \"I'm really sorry to hear you're feeling this way. Depression can be very difficult. Do you want to talk more about what's on your mind?\",\n",
    "        \"Remember, you don't have to face this alone. I'm here for you. Would you like to share more about your feelings?\",\n",
    "        \"It's okay to not feel okay. Is there something specific that's been bothering you lately?\",\n",
    "        \"Depression can feel very isolating. Know that reaching out is a brave step. How can I best support you today?\"\n",
    "    ],\n",
    "\n",
    "    \"i can't sleep(.*)\": [\n",
    "        \"I'm sorry to hear that you're having trouble sleeping. Can you tell me more about what's been on your mind?\",\n",
    "        \"Sometimes, thoughts can keep us up at night. Would you like to talk about it?\",\n",
    "        \"Not being able to sleep can be frustrating. Have you tried any techniques to help you relax before bed?\",\n",
    "        \"Sleep is important for your mental health. Let's explore some ways that might help you rest better.\"\n",
    "    ],\n",
    "\n",
    "    \"i'm stressed(.*)\": [\n",
    "        \"It sounds like you're feeling stressed. Would you like to talk about what's causing this stress?\",\n",
    "        \"I'm here to listen if you want to share what's been stressing you out.\",\n",
    "        \"Stress can be overwhelming. Are there specific things that have been particularly challenging for you?\",\n",
    "        \"You're not alone in feeling this way. What usually helps you manage your stress?\"\n",
    "    ],\n",
    "\n",
    "    \"(.*)panic attack(.*)\": [\n",
    "        \"I'm so sorry to hear that you're experiencing a panic attack. Take a deep breath, and know that you're safe.\",\n",
    "        \"Panic attacks can be very frightening. Would you like some tips on grounding techniques?\",\n",
    "        \"It's okay to take things slowly. Do you want to talk through what's happening?\",\n",
    "        \"I'm here for you. Is there something that usually helps you calm down?\"\n",
    "    ],\n",
    "\n",
    "    \"(.*)help(.*)\": [\n",
    "        \"I'm here to help you. What would you like to talk about today?\",\n",
    "        \"It's okay to ask for help. How can I best support you?\",\n",
    "        \"Sometimes, we all need a little help. What are you feeling right now?\",\n",
    "        \"I'd like to help you as much as I can. Can you share a bit more about what's on your mind?\"\n",
    "    ],\n",
    "\n",
    "    \"(.*)lonely(.*)\": [\n",
    "        \"I'm sorry that you're feeling lonely. Remember, you're not alone here.\",\n",
    "        \"Loneliness can be tough. Do you want to talk about what has been going on?\",\n",
    "        \"It's okay to feel lonely. Would you like to share more about what you're feeling?\",\n",
    "        \"You are not alone in this feeling. I'm here to listen to anything you want to share.\"\n",
    "    ],\n",
    "\n",
    "    \"(.*)no(.*)\": [\n",
    "        \"It's okay to say no. Can you tell me more about why you feel this way?\",\n",
    "        \"No problem. Is there something else you'd like to discuss?\",\n",
    "        \"I understand. Would you like to talk about something else?\",\n",
    "        \"That's alright. How can I assist you further?\"\n",
    "    ],\n",
    "\n",
    "    \"\": [\n",
    "        \"Please tell me more.\",\n",
    "        \"Can you elaborate on that?\",\n",
    "        \"I see.\",\n",
    "        \"Are you still there?\"\n",
    "    ]\n",
    "}\n",
    "\n"
   ]
  },
  {
   "cell_type": "code",
   "execution_count": 2,
   "id": "38df7e0be3a5e8fd",
   "metadata": {
    "ExecuteTime": {
     "end_time": "2024-09-02T14:05:36.332441Z",
     "start_time": "2024-09-02T14:05:36.326421Z"
    }
   },
   "outputs": [],
   "source": [
    "def match_response(input):\n",
    "    for pattern, responses in pairs.items():\n",
    "        match = re.match(pattern, input.lower())\n",
    "        if match:\n",
    "            response = random.choice(responses)\n",
    "            return response.format(*match.groups())\n",
    "    return \"I'm sorry, I don't understand what you're saying. Please tell me more.\"\n",
    "            "
   ]
  },
  {
   "cell_type": "code",
   "execution_count": 3,
   "id": "b135c1594724637d",
   "metadata": {
    "ExecuteTime": {
     "end_time": "2024-09-02T14:05:59.719644Z",
     "start_time": "2024-09-02T14:05:37.074605Z"
    }
   },
   "outputs": [
    {
     "name": "stdout",
     "output_type": "stream",
     "text": [
      "Eliza: Hi, how can I help you today?\n",
      "Eliza: It sounds like you're feeling so lonely today. How long have you been feeling this way?\n",
      "Eliza: Please tell me more.\n",
      "Eliza: Are you still there?\n",
      "Eliza: Can you elaborate on that?\n",
      "Eliza: Are you still there?\n",
      "Eliza: Hello, how are you today?\n",
      "Eliza: Sometimes, we all need a little help. What are you feeling right now?\n",
      "Eliza: It sounds like you're feeling so lonely. How long have you been feeling this way?\n",
      "Eliza: I see.\n",
      "Eliza: How long have you been stressed a lot?\n",
      "Eliza: Are you still there?\n",
      "Eliza: Please tell me more.\n",
      "Eliza: Please tell me more.\n",
      "Eliza: Can you elaborate on that?\n",
      "Eliza: Goodbye! Take care.\n"
     ]
    }
   ],
   "source": [
    "while True:\n",
    "    user_input = input(\"You: \")\n",
    "    response = match_response(user_input)\n",
    "    print(\"Eliza:\", response)\n",
    "    if user_input.lower() == \"bye\":\n",
    "        print(\"Eliza: Goodbye! Take care.\")7 \n",
    "        break\n",
    "    "
   ]
  },
  {
   "cell_type": "code",
   "execution_count": null,
   "id": "5be59a35dd630d57",
   "metadata": {},
   "outputs": [],
   "source": []
  }
 ],
 "metadata": {
  "kernelspec": {
   "display_name": "Python 3",
   "language": "python",
   "name": "python3"
  },
  "language_info": {
   "codemirror_mode": {
    "name": "ipython",
    "version": 3
   },
   "file_extension": ".py",
   "mimetype": "text/x-python",
   "name": "python",
   "nbconvert_exporter": "python",
   "pygments_lexer": "ipython3",
   "version": "3.10.13"
  }
 },
 "nbformat": 4,
 "nbformat_minor": 5
}
